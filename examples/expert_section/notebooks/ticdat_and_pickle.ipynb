{
 "cells": [
  {
   "cell_type": "markdown",
   "metadata": {},
   "source": [
    "## ticdat and pickle\n",
    "\n",
    "`ticdat` objects aren't naturally `pickle` friendly, but they are also play nice with `pickle` (via json)."
   ]
  },
  {
   "cell_type": "code",
   "execution_count": 1,
   "metadata": {},
   "outputs": [
    {
     "data": {
      "text/plain": [
       "'0.2.26'"
      ]
     },
     "execution_count": 1,
     "metadata": {},
     "output_type": "execute_result"
    }
   ],
   "source": [
    "import ticdat\n",
    "ticdat.__version__"
   ]
  },
  {
   "cell_type": "markdown",
   "metadata": {},
   "source": [
    "### pulling some data and code from the ticdat gurobipy/diet example"
   ]
  },
  {
   "cell_type": "code",
   "execution_count": 2,
   "metadata": {},
   "outputs": [
    {
     "data": {
      "text/plain": [
       "td: {categories: 4, foods: 9, nutrition_quantities: 36}"
      ]
     },
     "execution_count": 2,
     "metadata": {},
     "output_type": "execute_result"
    }
   ],
   "source": [
    "import diet\n",
    "dat = diet.input_schema.csv.create_tic_dat(\"diet_sample_data\")\n",
    "dat"
   ]
  },
  {
   "cell_type": "code",
   "execution_count": 3,
   "metadata": {},
   "outputs": [],
   "source": [
    "import pickle\n",
    "import json"
   ]
  },
  {
   "cell_type": "markdown",
   "metadata": {},
   "source": [
    "### to get json.write_file to return a json string, just pass an empty file path"
   ]
  },
  {
   "cell_type": "code",
   "execution_count": 4,
   "metadata": {},
   "outputs": [
    {
     "data": {
      "text/plain": [
       "{'categories': 4, 'foods': 9, 'nutrition_quantities': 36}"
      ]
     },
     "execution_count": 4,
     "metadata": {},
     "output_type": "execute_result"
    }
   ],
   "source": [
    "the_dict_i_can_pickle = json.loads(diet.input_schema.json.write_file(dat, \"\"))\n",
    "{k: len(v) for k, v in the_dict_i_can_pickle.items()}"
   ]
  },
  {
   "cell_type": "code",
   "execution_count": 5,
   "metadata": {},
   "outputs": [],
   "source": [
    "with open(\"dat.p\", \"wb\") as f:\n",
    "    pickle.dump(the_dict_i_can_pickle, f)"
   ]
  },
  {
   "cell_type": "markdown",
   "metadata": {},
   "source": [
    "### now de-serialize it from the pickle\n",
    "I'm going to do it all in one go so hang onto your butt"
   ]
  },
  {
   "cell_type": "code",
   "execution_count": 6,
   "metadata": {},
   "outputs": [
    {
     "data": {
      "text/plain": [
       "td: {categories: 4, foods: 9, nutrition_quantities: 36}"
      ]
     },
     "execution_count": 6,
     "metadata": {},
     "output_type": "execute_result"
    }
   ],
   "source": [
    "with open(\"dat.p\", \"rb\") as f:\n",
    "    dat2 = diet.input_schema.json.create_tic_dat(json.dumps(pickle.load(f)))\n",
    "dat2"
   ]
  },
  {
   "cell_type": "code",
   "execution_count": 7,
   "metadata": {},
   "outputs": [
    {
     "data": {
      "text/plain": [
       "True"
      ]
     },
     "execution_count": 7,
     "metadata": {},
     "output_type": "execute_result"
    }
   ],
   "source": [
    "diet.input_schema._same_data(dat, dat2, epsilon=0.0001)"
   ]
  },
  {
   "cell_type": "markdown",
   "metadata": {},
   "source": [
    "### now lets do it with PanDatFactory\n",
    "\n",
    "First we munge everything over to clean `PanDat` objects. I'm going to do a couple more steps than are strictly needed in order to make a clearly \"clean\" `PanDat` object."
   ]
  },
  {
   "cell_type": "code",
   "execution_count": 8,
   "metadata": {},
   "outputs": [],
   "source": [
    "pdf = ticdat.PanDatFactory.create_from_full_schema(diet.input_schema.schema(include_ancillary_info=True))"
   ]
  },
  {
   "cell_type": "code",
   "execution_count": 9,
   "metadata": {},
   "outputs": [
    {
     "data": {
      "text/plain": [
       "pd: {categories: 4, foods: 9, nutrition_quantities: 36}"
      ]
     },
     "execution_count": 9,
     "metadata": {},
     "output_type": "execute_result"
    }
   ],
   "source": [
    "pan_dat = pdf.copy_pan_dat(diet.input_schema.copy_to_pandas(dat, drop_pk_columns=False))\n",
    "pan_dat"
   ]
  },
  {
   "cell_type": "code",
   "execution_count": 10,
   "metadata": {},
   "outputs": [
    {
     "data": {
      "text/plain": [
       "{'categories': 4, 'foods': 9, 'nutrition_quantities': 36}"
      ]
     },
     "execution_count": 10,
     "metadata": {},
     "output_type": "execute_result"
    }
   ],
   "source": [
    "the_dict_i_can_pickle = json.loads(pdf.json.write_file(pan_dat, \"\"))\n",
    "{k: len(v) for k, v in the_dict_i_can_pickle.items()}"
   ]
  },
  {
   "cell_type": "code",
   "execution_count": 11,
   "metadata": {},
   "outputs": [],
   "source": [
    "with open(\"pan_dat.p\", \"wb\") as f:\n",
    "    pickle.dump(the_dict_i_can_pickle, f)"
   ]
  },
  {
   "cell_type": "code",
   "execution_count": 12,
   "metadata": {},
   "outputs": [
    {
     "data": {
      "text/plain": [
       "pd: {categories: 4, foods: 9, nutrition_quantities: 36}"
      ]
     },
     "execution_count": 12,
     "metadata": {},
     "output_type": "execute_result"
    }
   ],
   "source": [
    "with open(\"pan_dat.p\", \"rb\") as f:\n",
    "    pan_dat2 = pdf.json.create_pan_dat(json.dumps(pickle.load(f)))\n",
    "pan_dat2"
   ]
  },
  {
   "cell_type": "code",
   "execution_count": 13,
   "metadata": {},
   "outputs": [
    {
     "data": {
      "text/plain": [
       "True"
      ]
     },
     "execution_count": 13,
     "metadata": {},
     "output_type": "execute_result"
    }
   ],
   "source": [
    "pdf._same_data(pan_dat, pan_dat2, epsilon=0.0001)"
   ]
  },
  {
   "cell_type": "code",
   "execution_count": null,
   "metadata": {},
   "outputs": [],
   "source": []
  }
 ],
 "metadata": {
  "kernelspec": {
   "display_name": "Python 3 (ipykernel)",
   "language": "python",
   "name": "python3"
  },
  "language_info": {
   "codemirror_mode": {
    "name": "ipython",
    "version": 3
   },
   "file_extension": ".py",
   "mimetype": "text/x-python",
   "name": "python",
   "nbconvert_exporter": "python",
   "pygments_lexer": "ipython3",
   "version": "3.12.2"
  }
 },
 "nbformat": 4,
 "nbformat_minor": 4
}
