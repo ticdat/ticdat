{
 "cells": [
  {
   "cell_type": "markdown",
   "id": "7f35c066-3a96-4736-a4db-e447ac1e721f",
   "metadata": {},
   "source": [
    "Just a raw dump now so I don't forget what to do."
   ]
  },
  {
   "cell_type": "code",
   "execution_count": null,
   "id": "6bcf8889-c2b8-47ba-a98e-9c500c589366",
   "metadata": {},
   "outputs": [],
   "source": [
    "from gurobi_optimods import datasets\n",
    "data = datasets.load_workforce()\n",
    "data\n",
    "dir(data)\n",
    "data.keys()\n",
    "data.availability\n",
    "data.shift_requirements\n",
    "data.worker_limits\n",
    "data.__class__\n",
    "from gurobi_optimods.workforce import solve_workforce_scheduling\n",
    "? solve_workforce_scheduling\n",
    "assigned_shifts = solve_workforce_scheduling(\n",
    "    availability=data.availability,\n",
    "    shift_requirements=data.shift_requirements,\n",
    "    worker_limits=data.worker_limits,\n",
    "    preferences=\"Preference\",\n",
    ")\n",
    "worker_limits_dup = data.worker_limits.copy(deep=True)\n",
    "worker_limits_dup\n",
    "worker_limits_dup.loc[len(worker_limits_dup)] = ['Vincent', 3, 5]\n",
    "worker_limits_dup\n",
    "assigned_shifts_dup = solve_workforce_scheduling(\n",
    "    availability=data.availability,\n",
    "    shift_requirements=data.shift_requirements,\n",
    "    worker_limits=worker_limits_dup,\n",
    "    preferences=\"Preference\",\n",
    ")\n",
    "history\n"
   ]
  }
 ],
 "metadata": {
  "kernelspec": {
   "display_name": "Python 3 (ipykernel)",
   "language": "python",
   "name": "python3"
  },
  "language_info": {
   "codemirror_mode": {
    "name": "ipython",
    "version": 3
   },
   "file_extension": ".py",
   "mimetype": "text/x-python",
   "name": "python",
   "nbconvert_exporter": "python",
   "pygments_lexer": "ipython3",
   "version": "3.12.2"
  }
 },
 "nbformat": 4,
 "nbformat_minor": 5
}
