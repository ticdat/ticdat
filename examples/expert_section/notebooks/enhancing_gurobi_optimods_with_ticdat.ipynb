{
 "cells": [
  {
   "cell_type": "markdown",
   "id": "7f35c066-3a96-4736-a4db-e447ac1e721f",
   "metadata": {},
   "source": [
    "### ticdat: A Useful Shim Library on Top of pandas \n",
    "\n",
    "We're going to demonstrate how `ticdat` can be seen as a thin, useful library to enhance your use of `pandas`.\n",
    "\n",
    "To run this notebook, first `pip install gurobi_optimods`"
   ]
  },
  {
   "cell_type": "code",
   "execution_count": 1,
   "id": "834b05c3-450e-421a-85f0-90de8602b957",
   "metadata": {},
   "outputs": [],
   "source": [
    "from gurobi_optimods import datasets\n",
    "data = datasets.load_workforce()"
   ]
  },
  {
   "cell_type": "markdown",
   "id": "8ece70d2-5714-4a18-84ca-d43a0f8c3192",
   "metadata": {},
   "source": [
    "The `data` object here has `DataFrame` objects as attributes. "
   ]
  },
  {
   "cell_type": "code",
   "execution_count": 2,
   "id": "701d5f91-dbb5-4eff-ad0e-3136cf35a0a3",
   "metadata": {},
   "outputs": [
    {
     "data": {
      "text/html": [
       "<div>\n",
       "<style scoped>\n",
       "    .dataframe tbody tr th:only-of-type {\n",
       "        vertical-align: middle;\n",
       "    }\n",
       "\n",
       "    .dataframe tbody tr th {\n",
       "        vertical-align: top;\n",
       "    }\n",
       "\n",
       "    .dataframe thead th {\n",
       "        text-align: right;\n",
       "    }\n",
       "</style>\n",
       "<table border=\"1\" class=\"dataframe\">\n",
       "  <thead>\n",
       "    <tr style=\"text-align: right;\">\n",
       "      <th></th>\n",
       "      <th>Worker</th>\n",
       "      <th>Shift</th>\n",
       "      <th>Preference</th>\n",
       "    </tr>\n",
       "  </thead>\n",
       "  <tbody>\n",
       "    <tr>\n",
       "      <th>0</th>\n",
       "      <td>Siva</td>\n",
       "      <td>2023-05-02</td>\n",
       "      <td>2.0</td>\n",
       "    </tr>\n",
       "    <tr>\n",
       "      <th>1</th>\n",
       "      <td>Siva</td>\n",
       "      <td>2023-05-03</td>\n",
       "      <td>2.0</td>\n",
       "    </tr>\n",
       "    <tr>\n",
       "      <th>2</th>\n",
       "      <td>Siva</td>\n",
       "      <td>2023-05-05</td>\n",
       "      <td>5.0</td>\n",
       "    </tr>\n",
       "    <tr>\n",
       "      <th>3</th>\n",
       "      <td>Siva</td>\n",
       "      <td>2023-05-07</td>\n",
       "      <td>3.0</td>\n",
       "    </tr>\n",
       "    <tr>\n",
       "      <th>4</th>\n",
       "      <td>Siva</td>\n",
       "      <td>2023-05-09</td>\n",
       "      <td>2.0</td>\n",
       "    </tr>\n",
       "  </tbody>\n",
       "</table>\n",
       "</div>"
      ],
      "text/plain": [
       "  Worker      Shift  Preference\n",
       "0   Siva 2023-05-02         2.0\n",
       "1   Siva 2023-05-03         2.0\n",
       "2   Siva 2023-05-05         5.0\n",
       "3   Siva 2023-05-07         3.0\n",
       "4   Siva 2023-05-09         2.0"
      ]
     },
     "execution_count": 2,
     "metadata": {},
     "output_type": "execute_result"
    }
   ],
   "source": [
    "data.availability[:5]"
   ]
  },
  {
   "cell_type": "code",
   "execution_count": 3,
   "id": "32addbeb-487d-4d5b-b2e8-36039d9ab0fe",
   "metadata": {},
   "outputs": [
    {
     "data": {
      "text/html": [
       "<div>\n",
       "<style scoped>\n",
       "    .dataframe tbody tr th:only-of-type {\n",
       "        vertical-align: middle;\n",
       "    }\n",
       "\n",
       "    .dataframe tbody tr th {\n",
       "        vertical-align: top;\n",
       "    }\n",
       "\n",
       "    .dataframe thead th {\n",
       "        text-align: right;\n",
       "    }\n",
       "</style>\n",
       "<table border=\"1\" class=\"dataframe\">\n",
       "  <thead>\n",
       "    <tr style=\"text-align: right;\">\n",
       "      <th></th>\n",
       "      <th>Shift</th>\n",
       "      <th>Required</th>\n",
       "    </tr>\n",
       "  </thead>\n",
       "  <tbody>\n",
       "    <tr>\n",
       "      <th>0</th>\n",
       "      <td>2023-05-01</td>\n",
       "      <td>3</td>\n",
       "    </tr>\n",
       "    <tr>\n",
       "      <th>1</th>\n",
       "      <td>2023-05-02</td>\n",
       "      <td>2</td>\n",
       "    </tr>\n",
       "    <tr>\n",
       "      <th>2</th>\n",
       "      <td>2023-05-03</td>\n",
       "      <td>4</td>\n",
       "    </tr>\n",
       "    <tr>\n",
       "      <th>3</th>\n",
       "      <td>2023-05-04</td>\n",
       "      <td>2</td>\n",
       "    </tr>\n",
       "    <tr>\n",
       "      <th>4</th>\n",
       "      <td>2023-05-05</td>\n",
       "      <td>5</td>\n",
       "    </tr>\n",
       "  </tbody>\n",
       "</table>\n",
       "</div>"
      ],
      "text/plain": [
       "       Shift  Required\n",
       "0 2023-05-01         3\n",
       "1 2023-05-02         2\n",
       "2 2023-05-03         4\n",
       "3 2023-05-04         2\n",
       "4 2023-05-05         5"
      ]
     },
     "execution_count": 3,
     "metadata": {},
     "output_type": "execute_result"
    }
   ],
   "source": [
    "data.shift_requirements[:5]"
   ]
  },
  {
   "cell_type": "code",
   "execution_count": 4,
   "id": "bc111d8a-d7e9-46a0-90cb-a6dd2a641041",
   "metadata": {},
   "outputs": [
    {
     "data": {
      "text/html": [
       "<div>\n",
       "<style scoped>\n",
       "    .dataframe tbody tr th:only-of-type {\n",
       "        vertical-align: middle;\n",
       "    }\n",
       "\n",
       "    .dataframe tbody tr th {\n",
       "        vertical-align: top;\n",
       "    }\n",
       "\n",
       "    .dataframe thead th {\n",
       "        text-align: right;\n",
       "    }\n",
       "</style>\n",
       "<table border=\"1\" class=\"dataframe\">\n",
       "  <thead>\n",
       "    <tr style=\"text-align: right;\">\n",
       "      <th></th>\n",
       "      <th>Worker</th>\n",
       "      <th>MinShifts</th>\n",
       "      <th>MaxShifts</th>\n",
       "    </tr>\n",
       "  </thead>\n",
       "  <tbody>\n",
       "    <tr>\n",
       "      <th>0</th>\n",
       "      <td>Siva</td>\n",
       "      <td>6</td>\n",
       "      <td>8</td>\n",
       "    </tr>\n",
       "    <tr>\n",
       "      <th>1</th>\n",
       "      <td>Ziqiang</td>\n",
       "      <td>6</td>\n",
       "      <td>7</td>\n",
       "    </tr>\n",
       "    <tr>\n",
       "      <th>2</th>\n",
       "      <td>Matsumi</td>\n",
       "      <td>6</td>\n",
       "      <td>8</td>\n",
       "    </tr>\n",
       "    <tr>\n",
       "      <th>3</th>\n",
       "      <td>Femke</td>\n",
       "      <td>5</td>\n",
       "      <td>8</td>\n",
       "    </tr>\n",
       "    <tr>\n",
       "      <th>4</th>\n",
       "      <td>Vincent</td>\n",
       "      <td>6</td>\n",
       "      <td>8</td>\n",
       "    </tr>\n",
       "    <tr>\n",
       "      <th>5</th>\n",
       "      <td>Marisa</td>\n",
       "      <td>5</td>\n",
       "      <td>8</td>\n",
       "    </tr>\n",
       "    <tr>\n",
       "      <th>6</th>\n",
       "      <td>Pauline</td>\n",
       "      <td>6</td>\n",
       "      <td>8</td>\n",
       "    </tr>\n",
       "  </tbody>\n",
       "</table>\n",
       "</div>"
      ],
      "text/plain": [
       "    Worker  MinShifts  MaxShifts\n",
       "0     Siva          6          8\n",
       "1  Ziqiang          6          7\n",
       "2  Matsumi          6          8\n",
       "3    Femke          5          8\n",
       "4  Vincent          6          8\n",
       "5   Marisa          5          8\n",
       "6  Pauline          6          8"
      ]
     },
     "execution_count": 4,
     "metadata": {},
     "output_type": "execute_result"
    }
   ],
   "source": [
    "data.worker_limits"
   ]
  },
  {
   "cell_type": "markdown",
   "id": "e95a7400-600e-45eb-96f6-1881a7dc4a0c",
   "metadata": {},
   "source": [
    "We can pass these `DataFrame` objects to the `solve_workforce_scheduling` function to solve the workforce scheduling problem being demonstrated by `gurobi_optimods.workforce`."
   ]
  },
  {
   "cell_type": "code",
   "execution_count": 5,
   "id": "c900c015-6b23-4e82-9546-c09620be2072",
   "metadata": {},
   "outputs": [
    {
     "name": "stdout",
     "output_type": "stream",
     "text": [
      "Set parameter WLSAccessID\n",
      "Set parameter WLSSecret\n",
      "Set parameter LicenseID to value 945452\n",
      "WLS license 945452 - registered to Decision Spot\n",
      "Gurobi Optimizer version 12.0.0 build v12.0.0rc1 (mac64[arm] - Darwin 22.6.0 22H420)\n",
      "\n",
      "CPU model: Apple M2 Max\n",
      "Thread count: 12 physical cores, 12 logical processors, using up to 12 threads\n",
      "\n",
      "WLS license 945452 - registered to Decision Spot\n",
      "Optimize a model with 28 rows, 72 columns and 216 nonzeros\n",
      "Model fingerprint: 0xf3d4e6ad\n",
      "Variable types: 0 continuous, 72 integer (72 binary)\n",
      "Coefficient statistics:\n",
      "  Matrix range     [1e+00, 1e+00]\n",
      "  Objective range  [1e+00, 5e+00]\n",
      "  Bounds range     [1e+00, 1e+00]\n",
      "  RHS range        [2e+00, 8e+00]\n",
      "Found heuristic solution: objective 170.0000000\n",
      "Presolve removed 6 rows and 22 columns\n",
      "Presolve time: 0.00s\n",
      "Presolved: 22 rows, 50 columns, 145 nonzeros\n",
      "Variable types: 0 continuous, 50 integer (50 binary)\n",
      "\n",
      "Root relaxation: objective 1.850000e+02, 23 iterations, 0.00 seconds (0.00 work units)\n",
      "\n",
      "    Nodes    |    Current Node    |     Objective Bounds      |     Work\n",
      " Expl Unexpl |  Obj  Depth IntInf | Incumbent    BestBd   Gap | It/Node Time\n",
      "\n",
      "*    0     0               0     185.0000000  185.00000  0.00%     -    0s\n",
      "\n",
      "Explored 1 nodes (23 simplex iterations) in 0.01 seconds (0.00 work units)\n",
      "Thread count was 12 (of 12 available processors)\n",
      "\n",
      "Solution count 2: 185 170 \n",
      "\n",
      "Optimal solution found (tolerance 1.00e-04)\n",
      "Best objective 1.850000000000e+02, best bound 1.850000000000e+02, gap 0.0000%\n"
     ]
    },
    {
     "data": {
      "text/html": [
       "<div>\n",
       "<style scoped>\n",
       "    .dataframe tbody tr th:only-of-type {\n",
       "        vertical-align: middle;\n",
       "    }\n",
       "\n",
       "    .dataframe tbody tr th {\n",
       "        vertical-align: top;\n",
       "    }\n",
       "\n",
       "    .dataframe thead th {\n",
       "        text-align: right;\n",
       "    }\n",
       "</style>\n",
       "<table border=\"1\" class=\"dataframe\">\n",
       "  <thead>\n",
       "    <tr style=\"text-align: right;\">\n",
       "      <th></th>\n",
       "      <th>Worker</th>\n",
       "      <th>Shift</th>\n",
       "      <th>Preference</th>\n",
       "    </tr>\n",
       "  </thead>\n",
       "  <tbody>\n",
       "    <tr>\n",
       "      <th>0</th>\n",
       "      <td>Siva</td>\n",
       "      <td>2023-05-03</td>\n",
       "      <td>2.0</td>\n",
       "    </tr>\n",
       "    <tr>\n",
       "      <th>1</th>\n",
       "      <td>Siva</td>\n",
       "      <td>2023-05-05</td>\n",
       "      <td>5.0</td>\n",
       "    </tr>\n",
       "    <tr>\n",
       "      <th>2</th>\n",
       "      <td>Siva</td>\n",
       "      <td>2023-05-07</td>\n",
       "      <td>3.0</td>\n",
       "    </tr>\n",
       "    <tr>\n",
       "      <th>3</th>\n",
       "      <td>Siva</td>\n",
       "      <td>2023-05-10</td>\n",
       "      <td>4.0</td>\n",
       "    </tr>\n",
       "    <tr>\n",
       "      <th>4</th>\n",
       "      <td>Siva</td>\n",
       "      <td>2023-05-11</td>\n",
       "      <td>5.0</td>\n",
       "    </tr>\n",
       "  </tbody>\n",
       "</table>\n",
       "</div>"
      ],
      "text/plain": [
       "  Worker      Shift  Preference\n",
       "0   Siva 2023-05-03         2.0\n",
       "1   Siva 2023-05-05         5.0\n",
       "2   Siva 2023-05-07         3.0\n",
       "3   Siva 2023-05-10         4.0\n",
       "4   Siva 2023-05-11         5.0"
      ]
     },
     "execution_count": 5,
     "metadata": {},
     "output_type": "execute_result"
    }
   ],
   "source": [
    "from gurobi_optimods.workforce import solve_workforce_scheduling\n",
    "assigned_shifts = solve_workforce_scheduling(\n",
    "    availability=data.availability,\n",
    "    shift_requirements=data.shift_requirements,\n",
    "    worker_limits=data.worker_limits,\n",
    "    preferences=\"Preference\",\n",
    ")\n",
    "assigned_shifts[:5]"
   ]
  },
  {
   "cell_type": "markdown",
   "id": "899c7c61-a6d3-40a0-9e73-a2c9e5e7d856",
   "metadata": {},
   "source": [
    "The problem is that `solve_workforce_scheduling` is brittle. If you introduce a minor flaw into one of the arguments, this subroutine crashes ungracefully. This risk isn't even mentioned in the docstring."
   ]
  },
  {
   "cell_type": "code",
   "execution_count": 6,
   "id": "34a04363-9c60-4c24-84a6-ede52eed05f5",
   "metadata": {},
   "outputs": [
    {
     "data": {
      "text/html": [
       "<div>\n",
       "<style scoped>\n",
       "    .dataframe tbody tr th:only-of-type {\n",
       "        vertical-align: middle;\n",
       "    }\n",
       "\n",
       "    .dataframe tbody tr th {\n",
       "        vertical-align: top;\n",
       "    }\n",
       "\n",
       "    .dataframe thead th {\n",
       "        text-align: right;\n",
       "    }\n",
       "</style>\n",
       "<table border=\"1\" class=\"dataframe\">\n",
       "  <thead>\n",
       "    <tr style=\"text-align: right;\">\n",
       "      <th></th>\n",
       "      <th>Worker</th>\n",
       "      <th>MinShifts</th>\n",
       "      <th>MaxShifts</th>\n",
       "    </tr>\n",
       "  </thead>\n",
       "  <tbody>\n",
       "    <tr>\n",
       "      <th>0</th>\n",
       "      <td>Siva</td>\n",
       "      <td>6</td>\n",
       "      <td>8</td>\n",
       "    </tr>\n",
       "    <tr>\n",
       "      <th>1</th>\n",
       "      <td>Ziqiang</td>\n",
       "      <td>6</td>\n",
       "      <td>7</td>\n",
       "    </tr>\n",
       "    <tr>\n",
       "      <th>2</th>\n",
       "      <td>Matsumi</td>\n",
       "      <td>6</td>\n",
       "      <td>8</td>\n",
       "    </tr>\n",
       "    <tr>\n",
       "      <th>3</th>\n",
       "      <td>Femke</td>\n",
       "      <td>5</td>\n",
       "      <td>8</td>\n",
       "    </tr>\n",
       "    <tr>\n",
       "      <th>4</th>\n",
       "      <td>Vincent</td>\n",
       "      <td>6</td>\n",
       "      <td>8</td>\n",
       "    </tr>\n",
       "    <tr>\n",
       "      <th>5</th>\n",
       "      <td>Marisa</td>\n",
       "      <td>5</td>\n",
       "      <td>8</td>\n",
       "    </tr>\n",
       "    <tr>\n",
       "      <th>6</th>\n",
       "      <td>Pauline</td>\n",
       "      <td>6</td>\n",
       "      <td>8</td>\n",
       "    </tr>\n",
       "    <tr>\n",
       "      <th>7</th>\n",
       "      <td>Vincent</td>\n",
       "      <td>3</td>\n",
       "      <td>5</td>\n",
       "    </tr>\n",
       "  </tbody>\n",
       "</table>\n",
       "</div>"
      ],
      "text/plain": [
       "    Worker  MinShifts  MaxShifts\n",
       "0     Siva          6          8\n",
       "1  Ziqiang          6          7\n",
       "2  Matsumi          6          8\n",
       "3    Femke          5          8\n",
       "4  Vincent          6          8\n",
       "5   Marisa          5          8\n",
       "6  Pauline          6          8\n",
       "7  Vincent          3          5"
      ]
     },
     "execution_count": 6,
     "metadata": {},
     "output_type": "execute_result"
    }
   ],
   "source": [
    "worker_limits_dup = data.worker_limits.copy(deep=True)\n",
    "worker_limits_dup\n",
    "worker_limits_dup.loc[len(worker_limits_dup)] = ['Vincent', 3, 5]\n",
    "worker_limits_dup"
   ]
  },
  {
   "cell_type": "code",
   "execution_count": 7,
   "id": "56c1192c-84d0-4278-a539-7d69f6e252bc",
   "metadata": {},
   "outputs": [
    {
     "name": "stdout",
     "output_type": "stream",
     "text": [
      "Set parameter WLSAccessID\n",
      "Set parameter WLSSecret\n",
      "Set parameter LicenseID to value 945452\n",
      "WLS license 945452 - registered to Decision Spot\n"
     ]
    },
    {
     "ename": "KeyError",
     "evalue": "'series must be aligned'",
     "output_type": "error",
     "traceback": [
      "\u001b[0;31m---------------------------------------------------------------------------\u001b[0m",
      "\u001b[0;31mKeyError\u001b[0m                                  Traceback (most recent call last)",
      "Cell \u001b[0;32mIn[7], line 1\u001b[0m\n\u001b[0;32m----> 1\u001b[0m solve_workforce_scheduling(\n\u001b[1;32m      2\u001b[0m     availability\u001b[38;5;241m=\u001b[39mdata\u001b[38;5;241m.\u001b[39mavailability,\n\u001b[1;32m      3\u001b[0m     shift_requirements\u001b[38;5;241m=\u001b[39mdata\u001b[38;5;241m.\u001b[39mshift_requirements,\n\u001b[1;32m      4\u001b[0m     worker_limits\u001b[38;5;241m=\u001b[39mworker_limits_dup,\n\u001b[1;32m      5\u001b[0m     preferences\u001b[38;5;241m=\u001b[39m\u001b[38;5;124m\"\u001b[39m\u001b[38;5;124mPreference\u001b[39m\u001b[38;5;124m\"\u001b[39m,\n\u001b[1;32m      6\u001b[0m )\n",
      "File \u001b[0;32m/opt/anaconda3/lib/python3.12/site-packages/gurobi_optimods/utils.py:137\u001b[0m, in \u001b[0;36moptimod.<locals>.optimod_decorator.<locals>.optimod_decorated\u001b[0;34m(verbose, logfile, time_limit, solver_params, *args, **kwargs)\u001b[0m\n\u001b[1;32m    129\u001b[0m \u001b[38;5;28;01mwith\u001b[39;00m _mod_context(\n\u001b[1;32m    130\u001b[0m     mod_logger\u001b[38;5;241m=\u001b[39mmod_logger,\n\u001b[1;32m    131\u001b[0m     log_to_console\u001b[38;5;241m=\u001b[39mverbose,\n\u001b[0;32m   (...)\u001b[0m\n\u001b[1;32m    134\u001b[0m     user_params\u001b[38;5;241m=\u001b[39msolver_params,\n\u001b[1;32m    135\u001b[0m ) \u001b[38;5;28;01mas\u001b[39;00m create_env:\n\u001b[1;32m    136\u001b[0m     \u001b[38;5;28;01mtry\u001b[39;00m:\n\u001b[0;32m--> 137\u001b[0m         \u001b[38;5;28;01mreturn\u001b[39;00m func(\u001b[38;5;241m*\u001b[39margs, create_env\u001b[38;5;241m=\u001b[39mcreate_env, \u001b[38;5;241m*\u001b[39m\u001b[38;5;241m*\u001b[39mkwargs)\n\u001b[1;32m    139\u001b[0m     \u001b[38;5;28;01mexcept\u001b[39;00m gp\u001b[38;5;241m.\u001b[39mGurobiError \u001b[38;5;28;01mas\u001b[39;00m ge:\n\u001b[1;32m    140\u001b[0m         \u001b[38;5;28;01mif\u001b[39;00m ge\u001b[38;5;241m.\u001b[39merrno \u001b[38;5;241m==\u001b[39m gp\u001b[38;5;241m.\u001b[39mGRB\u001b[38;5;241m.\u001b[39mERROR_SIZE_LIMIT_EXCEEDED:\n",
      "File \u001b[0;32m/opt/anaconda3/lib/python3.12/site-packages/gurobi_optimods/workforce.py:105\u001b[0m, in \u001b[0;36msolve_workforce_scheduling\u001b[0;34m(availability, shift_requirements, worker_limits, preferences, rolling_limits, create_env)\u001b[0m\n\u001b[1;32m     96\u001b[0m             m\u001b[38;5;241m.\u001b[39maddConstr(\n\u001b[1;32m     97\u001b[0m                 expr \u001b[38;5;241m<\u001b[39m\u001b[38;5;241m=\u001b[39m max_shifts,\n\u001b[1;32m     98\u001b[0m                 name\u001b[38;5;241m=\u001b[39m\u001b[38;5;124mf\u001b[39m\u001b[38;5;124m\"\u001b[39m\u001b[38;5;124mrolling[\u001b[39m\u001b[38;5;132;01m{\u001b[39;00mworker\u001b[38;5;132;01m}\u001b[39;00m\u001b[38;5;124m,\u001b[39m\u001b[38;5;132;01m{\u001b[39;00mentry\u001b[38;5;132;01m}\u001b[39;00m\u001b[38;5;124m]\u001b[39m\u001b[38;5;124m\"\u001b[39m,\n\u001b[1;32m     99\u001b[0m             )\n\u001b[1;32m    100\u001b[0m             \u001b[38;5;66;03m# TODO test and implement lower limit\u001b[39;00m\n\u001b[1;32m    101\u001b[0m \n\u001b[1;32m    102\u001b[0m \u001b[38;5;28;01melse\u001b[39;00m:\n\u001b[1;32m    103\u001b[0m     \u001b[38;5;66;03m# If limit_window is not specified, min/max shift limits are\u001b[39;00m\n\u001b[1;32m    104\u001b[0m     \u001b[38;5;66;03m# interpreted as limits on the roster as a whole\u001b[39;00m\n\u001b[0;32m--> 105\u001b[0m     gppd\u001b[38;5;241m.\u001b[39madd_constrs(\n\u001b[1;32m    106\u001b[0m         m,\n\u001b[1;32m    107\u001b[0m         assignments\u001b[38;5;241m.\u001b[39mgroupby(\u001b[38;5;124m\"\u001b[39m\u001b[38;5;124mWorker\u001b[39m\u001b[38;5;124m\"\u001b[39m)[\u001b[38;5;124m\"\u001b[39m\u001b[38;5;124massign\u001b[39m\u001b[38;5;124m\"\u001b[39m]\u001b[38;5;241m.\u001b[39msum(),\n\u001b[1;32m    108\u001b[0m         GRB\u001b[38;5;241m.\u001b[39mLESS_EQUAL,\n\u001b[1;32m    109\u001b[0m         worker_limits\u001b[38;5;241m.\u001b[39mset_index(\u001b[38;5;124m\"\u001b[39m\u001b[38;5;124mWorker\u001b[39m\u001b[38;5;124m\"\u001b[39m)[\u001b[38;5;124m\"\u001b[39m\u001b[38;5;124mMaxShifts\u001b[39m\u001b[38;5;124m\"\u001b[39m],\n\u001b[1;32m    110\u001b[0m         name\u001b[38;5;241m=\u001b[39m\u001b[38;5;124m\"\u001b[39m\u001b[38;5;124mmax_shifts\u001b[39m\u001b[38;5;124m\"\u001b[39m,\n\u001b[1;32m    111\u001b[0m     )\n\u001b[1;32m    112\u001b[0m     gppd\u001b[38;5;241m.\u001b[39madd_constrs(\n\u001b[1;32m    113\u001b[0m         m,\n\u001b[1;32m    114\u001b[0m         assignments\u001b[38;5;241m.\u001b[39mgroupby(\u001b[38;5;124m\"\u001b[39m\u001b[38;5;124mWorker\u001b[39m\u001b[38;5;124m\"\u001b[39m)[\u001b[38;5;124m\"\u001b[39m\u001b[38;5;124massign\u001b[39m\u001b[38;5;124m\"\u001b[39m]\u001b[38;5;241m.\u001b[39msum(),\n\u001b[0;32m   (...)\u001b[0m\n\u001b[1;32m    117\u001b[0m         name\u001b[38;5;241m=\u001b[39m\u001b[38;5;124m\"\u001b[39m\u001b[38;5;124mmin_shifts\u001b[39m\u001b[38;5;124m\"\u001b[39m,\n\u001b[1;32m    118\u001b[0m     )\n\u001b[1;32m    120\u001b[0m \u001b[38;5;66;03m# Solve the model and return the shift assignments as a subset of the\u001b[39;00m\n\u001b[1;32m    121\u001b[0m \u001b[38;5;66;03m# input availability dataframe. Raise an exception if a feasible schedule\u001b[39;00m\n\u001b[1;32m    122\u001b[0m \u001b[38;5;66;03m# does not exist.\u001b[39;00m\n",
      "File \u001b[0;32m/opt/anaconda3/lib/python3.12/site-packages/gurobipy_pandas/api.py:266\u001b[0m, in \u001b[0;36madd_constrs\u001b[0;34m(model, lhs, sense, rhs, name, index_formatter)\u001b[0m\n\u001b[1;32m    226\u001b[0m \u001b[38;5;28;01mdef\u001b[39;00m \u001b[38;5;21madd_constrs\u001b[39m(\n\u001b[1;32m    227\u001b[0m     model,\n\u001b[1;32m    228\u001b[0m     lhs,\n\u001b[0;32m   (...)\u001b[0m\n\u001b[1;32m    233\u001b[0m     index_formatter\u001b[38;5;241m=\u001b[39m\u001b[38;5;124m\"\u001b[39m\u001b[38;5;124mdefault\u001b[39m\u001b[38;5;124m\"\u001b[39m,\n\u001b[1;32m    234\u001b[0m ) \u001b[38;5;241m-\u001b[39m\u001b[38;5;241m>\u001b[39m pd\u001b[38;5;241m.\u001b[39mSeries:\n\u001b[1;32m    235\u001b[0m \u001b[38;5;250m    \u001b[39m\u001b[38;5;124;03m\"\"\"Add a constraint to the model for each row in lhs & rhs. At least one of\u001b[39;00m\n\u001b[1;32m    236\u001b[0m \u001b[38;5;124;03m    `lhs` and `rhs` must be a Series, while the other side may be a constant or a\u001b[39;00m\n\u001b[1;32m    237\u001b[0m \u001b[38;5;124;03m    single gurobipy expression. If both sides are Series, then their indexes\u001b[39;00m\n\u001b[0;32m   (...)\u001b[0m\n\u001b[1;32m    264\u001b[0m \u001b[38;5;124;03m           A Series of Constr objects\u001b[39;00m\n\u001b[1;32m    265\u001b[0m \u001b[38;5;124;03m    \"\"\"\u001b[39;00m\n\u001b[0;32m--> 266\u001b[0m     \u001b[38;5;28;01mreturn\u001b[39;00m add_constrs_from_series(\n\u001b[1;32m    267\u001b[0m         model, lhs, sense, rhs, name\u001b[38;5;241m=\u001b[39mname, index_formatter\u001b[38;5;241m=\u001b[39mindex_formatter\n\u001b[1;32m    268\u001b[0m     )\n",
      "File \u001b[0;32m/opt/anaconda3/lib/python3.12/site-packages/gurobipy_pandas/constraints.py:73\u001b[0m, in \u001b[0;36madd_constrs_from_series\u001b[0;34m(model, lhs, sense, rhs, name, index_formatter)\u001b[0m\n\u001b[1;32m     71\u001b[0m \u001b[38;5;28;01mif\u001b[39;00m \u001b[38;5;28misinstance\u001b[39m(lhs, pd\u001b[38;5;241m.\u001b[39mSeries) \u001b[38;5;129;01mand\u001b[39;00m \u001b[38;5;28misinstance\u001b[39m(rhs, pd\u001b[38;5;241m.\u001b[39mSeries):\n\u001b[1;32m     72\u001b[0m     \u001b[38;5;28;01mif\u001b[39;00m \u001b[38;5;129;01mnot\u001b[39;00m lhs\u001b[38;5;241m.\u001b[39mindex\u001b[38;5;241m.\u001b[39msort_values()\u001b[38;5;241m.\u001b[39mequals(rhs\u001b[38;5;241m.\u001b[39mindex\u001b[38;5;241m.\u001b[39msort_values()):\n\u001b[0;32m---> 73\u001b[0m         \u001b[38;5;28;01mraise\u001b[39;00m \u001b[38;5;167;01mKeyError\u001b[39;00m(\u001b[38;5;124m\"\u001b[39m\u001b[38;5;124mseries must be aligned\u001b[39m\u001b[38;5;124m\"\u001b[39m)\n\u001b[1;32m     75\u001b[0m \u001b[38;5;28;01mif\u001b[39;00m \u001b[38;5;28misinstance\u001b[39m(lhs, pd\u001b[38;5;241m.\u001b[39mSeries) \u001b[38;5;129;01mand\u001b[39;00m lhs\u001b[38;5;241m.\u001b[39misnull()\u001b[38;5;241m.\u001b[39many():\n\u001b[1;32m     76\u001b[0m     \u001b[38;5;28;01mraise\u001b[39;00m \u001b[38;5;167;01mValueError\u001b[39;00m(\u001b[38;5;124m\"\u001b[39m\u001b[38;5;124mlhs series has missing values\u001b[39m\u001b[38;5;124m\"\u001b[39m)\n",
      "\u001b[0;31mKeyError\u001b[0m: 'series must be aligned'"
     ]
    }
   ],
   "source": [
    "solve_workforce_scheduling(\n",
    "    availability=data.availability,\n",
    "    shift_requirements=data.shift_requirements,\n",
    "    worker_limits=worker_limits_dup,\n",
    "    preferences=\"Preference\",\n",
    ")"
   ]
  },
  {
   "cell_type": "markdown",
   "id": "7bc3a891-0fc3-4028-b1f3-9769e00ce159",
   "metadata": {},
   "source": [
    "This appears to be unintended behavior. In other words, a bug. While it's true that we passed a `worker_limits` with two \"Vincent\" rows, it would be preferable if `solve_workforce_scheduling` provided a clearer error message.  As it stands, the `KeyError: 'series must be aligned'` message gives no direct insight into the real issue (duplicate rows).\n",
    "\n",
    "By contrast, consider how the [netflow_pd.py](https://github.com/ticdat/ticdat/blob/master/examples/gurobipy/netflow/netflow_pd.py) `ticdat` example handles a similar problem. "
   ]
  },
  {
   "cell_type": "code",
   "execution_count": 8,
   "id": "7f9c28b8-9179-423b-85e9-3324c08d1675",
   "metadata": {},
   "outputs": [],
   "source": [
    "import netflow_pd\n",
    "dat = netflow_pd.input_schema.csv.create_pan_dat(\"netflow_sample_data\")"
   ]
  },
  {
   "cell_type": "markdown",
   "id": "6606ef76-adb0-48aa-a6b1-e6fbefa9980a",
   "metadata": {},
   "source": [
    "The `dat` object here has `DataFrame` attributes, similar to `data`. Let's create a similar data integrity problem and see how `netflow_pd` handles it."
   ]
  },
  {
   "cell_type": "code",
   "execution_count": 9,
   "id": "841d231c-c589-4ca2-92b6-4f810d7bb3d2",
   "metadata": {},
   "outputs": [
    {
     "data": {
      "text/html": [
       "<div>\n",
       "<style scoped>\n",
       "    .dataframe tbody tr th:only-of-type {\n",
       "        vertical-align: middle;\n",
       "    }\n",
       "\n",
       "    .dataframe tbody tr th {\n",
       "        vertical-align: top;\n",
       "    }\n",
       "\n",
       "    .dataframe thead th {\n",
       "        text-align: right;\n",
       "    }\n",
       "</style>\n",
       "<table border=\"1\" class=\"dataframe\">\n",
       "  <thead>\n",
       "    <tr style=\"text-align: right;\">\n",
       "      <th></th>\n",
       "      <th>Name</th>\n",
       "      <th>Volume</th>\n",
       "    </tr>\n",
       "  </thead>\n",
       "  <tbody>\n",
       "    <tr>\n",
       "      <th>0</th>\n",
       "      <td>Pencils</td>\n",
       "      <td>0.5000</td>\n",
       "    </tr>\n",
       "    <tr>\n",
       "      <th>1</th>\n",
       "      <td>Pens</td>\n",
       "      <td>0.2125</td>\n",
       "    </tr>\n",
       "    <tr>\n",
       "      <th>2</th>\n",
       "      <td>Pencils</td>\n",
       "      <td>1.3000</td>\n",
       "    </tr>\n",
       "  </tbody>\n",
       "</table>\n",
       "</div>"
      ],
      "text/plain": [
       "      Name  Volume\n",
       "0  Pencils  0.5000\n",
       "1     Pens  0.2125\n",
       "2  Pencils  1.3000"
      ]
     },
     "execution_count": 9,
     "metadata": {},
     "output_type": "execute_result"
    }
   ],
   "source": [
    "dat.commodities.loc[len(dat.commodities)] = ['Pencils', 1.3]\n",
    "dat.commodities"
   ]
  },
  {
   "cell_type": "code",
   "execution_count": 10,
   "id": "a791907a-9305-4309-88f0-49ecf646ae1d",
   "metadata": {},
   "outputs": [
    {
     "ename": "AssertionError",
     "evalue": "",
     "output_type": "error",
     "traceback": [
      "\u001b[0;31m---------------------------------------------------------------------------\u001b[0m",
      "\u001b[0;31mAssertionError\u001b[0m                            Traceback (most recent call last)",
      "Cell \u001b[0;32mIn[10], line 1\u001b[0m\n\u001b[0;32m----> 1\u001b[0m netflow_pd\u001b[38;5;241m.\u001b[39msolve(dat)\n",
      "File \u001b[0;32m~/ticdat/netflow_pd.py:65\u001b[0m, in \u001b[0;36msolve\u001b[0;34m(dat)\u001b[0m\n\u001b[1;32m     62\u001b[0m \u001b[38;5;28;01massert\u001b[39;00m input_schema\u001b[38;5;241m.\u001b[39mgood_pan_dat_object(dat)\n\u001b[1;32m     63\u001b[0m \u001b[38;5;66;03m# PanDat objects might contain duplicate rows, whereas TicDat objects cannot. This is because DataFrames\u001b[39;00m\n\u001b[1;32m     64\u001b[0m \u001b[38;5;66;03m# can contain duplicate rows, but dictionaries cannot.\u001b[39;00m\n\u001b[0;32m---> 65\u001b[0m \u001b[38;5;28;01massert\u001b[39;00m \u001b[38;5;129;01mnot\u001b[39;00m input_schema\u001b[38;5;241m.\u001b[39mfind_duplicates(dat)\n\u001b[1;32m     66\u001b[0m \u001b[38;5;28;01massert\u001b[39;00m \u001b[38;5;129;01mnot\u001b[39;00m input_schema\u001b[38;5;241m.\u001b[39mfind_foreign_key_failures(dat)\n\u001b[1;32m     67\u001b[0m \u001b[38;5;28;01massert\u001b[39;00m \u001b[38;5;129;01mnot\u001b[39;00m input_schema\u001b[38;5;241m.\u001b[39mfind_data_type_failures(dat)\n",
      "\u001b[0;31mAssertionError\u001b[0m: "
     ]
    }
   ],
   "source": [
    "netflow_pd.solve(dat)"
   ]
  },
  {
   "cell_type": "markdown",
   "id": "5f3f5b51-806e-4f23-af82-ea061a1b4433",
   "metadata": {},
   "source": [
    "We have an error message, but a much clearer one. The problem is `input_schema.find_duplicates` found something. The natural next step is to see what it found."
   ]
  },
  {
   "cell_type": "code",
   "execution_count": 11,
   "id": "15e2197c-bc85-47c5-b8ce-742d4aba09dc",
   "metadata": {},
   "outputs": [
    {
     "data": {
      "text/plain": [
       "{'commodities':       Name  Volume\n",
       " 2  Pencils     1.3}"
      ]
     },
     "execution_count": 11,
     "metadata": {},
     "output_type": "execute_result"
    }
   ],
   "source": [
    "netflow_pd.input_schema.find_duplicates(dat)"
   ]
  },
  {
   "cell_type": "markdown",
   "id": "12bf5474-4982-4281-b0bc-0e6827de66ff",
   "metadata": {},
   "source": [
    "Lets look at this a bit more closely."
   ]
  },
  {
   "cell_type": "code",
   "execution_count": 12,
   "id": "47b98209-0b6f-4ba8-848f-cd1da49b502a",
   "metadata": {},
   "outputs": [
    {
     "data": {
      "text/html": [
       "<div>\n",
       "<style scoped>\n",
       "    .dataframe tbody tr th:only-of-type {\n",
       "        vertical-align: middle;\n",
       "    }\n",
       "\n",
       "    .dataframe tbody tr th {\n",
       "        vertical-align: top;\n",
       "    }\n",
       "\n",
       "    .dataframe thead th {\n",
       "        text-align: right;\n",
       "    }\n",
       "</style>\n",
       "<table border=\"1\" class=\"dataframe\">\n",
       "  <thead>\n",
       "    <tr style=\"text-align: right;\">\n",
       "      <th></th>\n",
       "      <th>Name</th>\n",
       "      <th>Volume</th>\n",
       "    </tr>\n",
       "  </thead>\n",
       "  <tbody>\n",
       "    <tr>\n",
       "      <th>2</th>\n",
       "      <td>Pencils</td>\n",
       "      <td>1.3</td>\n",
       "    </tr>\n",
       "  </tbody>\n",
       "</table>\n",
       "</div>"
      ],
      "text/plain": [
       "      Name  Volume\n",
       "2  Pencils     1.3"
      ]
     },
     "execution_count": 12,
     "metadata": {},
     "output_type": "execute_result"
    }
   ],
   "source": [
    "netflow_pd.input_schema.find_duplicates(dat)[\"commodities\"]"
   ]
  },
  {
   "cell_type": "markdown",
   "id": "ea9067e2-073c-4e8f-b89d-4dc0ab363fba",
   "metadata": {},
   "source": [
    "`ticdat` identified the problem for us quite nicely. There is a second row in the commodities table for \"Pencils\". \n",
    "\n",
    "Of course, `ticdat` here just functioned as a thin library on top of `pandas`. The `find_duplicates` routine is actually implemented by calling `DataFrame.duplicated`. If you'd rather make that call directly, rather than use `ticdat`, feel free. The point is this - a brittle subroutine is a buggy subroutine. Don't assume that the magic data fairy is going to pass you perfect `DataFrame` objects. Validate any assumptions you make about your subroutine arguments prior to running the optimization logic."
   ]
  }
 ],
 "metadata": {
  "kernelspec": {
   "display_name": "Python 3 (ipykernel)",
   "language": "python",
   "name": "python3"
  },
  "language_info": {
   "codemirror_mode": {
    "name": "ipython",
    "version": 3
   },
   "file_extension": ".py",
   "mimetype": "text/x-python",
   "name": "python",
   "nbconvert_exporter": "python",
   "pygments_lexer": "ipython3",
   "version": "3.12.2"
  }
 },
 "nbformat": 4,
 "nbformat_minor": 5
}
